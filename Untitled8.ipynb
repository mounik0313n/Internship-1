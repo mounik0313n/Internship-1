{
  "nbformat": 4,
  "nbformat_minor": 0,
  "metadata": {
    "colab": {
      "provenance": []
    },
    "kernelspec": {
      "name": "python3",
      "display_name": "Python 3"
    },
    "language_info": {
      "name": "python"
    }
  },
  "cells": [
    {
      "cell_type": "markdown",
      "source": [
        "Basic numpy in python"
      ],
      "metadata": {
        "id": "TKf02NRohZ9L"
      }
    },
    {
      "cell_type": "code",
      "source": [
        "import numpy as np\n",
        "# Creating array object\n",
        "arr = np.array( [[ 1, 2, 3],\n",
        "                 [ 4, 2, 5]] )\n",
        "# Printing type of arr object\n",
        "print(\"Array is of type: \", type(arr))\n",
        "# Printing array dimensions (axes)\n",
        "print(\"No. of dimensions: \", arr.ndim)\n",
        "# Printing shape of array\n",
        "print(\"Shape of array: \", arr.shape)\n",
        "# Printing size (total number of elements) of array\n",
        "print(\"Size of array: \", arr.size)\n",
        "# Printing type of elements in array\n",
        "print(\"Array stores elements of type: \", arr.dtype)"
      ],
      "metadata": {
        "colab": {
          "base_uri": "https://localhost:8080/"
        },
        "id": "ogdLFCU5hXsD",
        "outputId": "04b41971-db24-4da7-9215-2b81b3727d52"
      },
      "execution_count": 19,
      "outputs": [
        {
          "output_type": "stream",
          "name": "stdout",
          "text": [
            "Array is of type:  <class 'numpy.ndarray'>\n",
            "No. of dimensions:  2\n",
            "Shape of array:  (2, 3)\n",
            "Size of array:  6\n",
            "Array stores elements of type:  int64\n"
          ]
        }
      ]
    },
    {
      "cell_type": "code",
      "source": [
        "import numpy as np\n",
        "# Creating array from list with type float\n",
        "a = np.array([[1, 2, 4], [5, 8, 7]], dtype = 'float')\n",
        "print (\"Array created using passed list:\\n\", a)\n",
        "# Creating array from tuple\n",
        "b = np.array((1 , 3, 2))\n",
        "print (\"\\nArray created using passed tuple:\\n\", b)"
      ],
      "metadata": {
        "colab": {
          "base_uri": "https://localhost:8080/"
        },
        "id": "YeKe5uTohg99",
        "outputId": "876e8394-2961-4ec1-ff85-451d1ef3b3ef"
      },
      "execution_count": 3,
      "outputs": [
        {
          "output_type": "stream",
          "name": "stdout",
          "text": [
            "Array created using passed list:\n",
            " [[1. 2. 4.]\n",
            " [5. 8. 7.]]\n",
            "\n",
            "Array created using passed tuple:\n",
            " [1 3 2]\n"
          ]
        }
      ]
    },
    {
      "cell_type": "code",
      "source": [
        "# Creating a 3X4 array with all zeros\n",
        "c = np.zeros((3, 4))\n",
        "print (\"An array initialized with all zeros:\\n\", c)\n",
        "# Create a constant value array of complex type\n",
        "d = np.full((3, 3), 6, dtype = 'complex')\n",
        "print (\"An array initialized with all 6s.Array type is complex:\\n\", d)\n",
        "# Create an array with random values\n",
        "e = np.random.random((2, 2))\n",
        "print (\"A random array:\\n\", e)"
      ],
      "metadata": {
        "colab": {
          "base_uri": "https://localhost:8080/"
        },
        "id": "7TZ91wmVhv3P",
        "outputId": "9bdb6af0-6a64-4717-8175-68028964d9d8"
      },
      "execution_count": 21,
      "outputs": [
        {
          "output_type": "stream",
          "name": "stdout",
          "text": [
            "An array initialized with all zeros:\n",
            " [[0. 0. 0. 0.]\n",
            " [0. 0. 0. 0.]\n",
            " [0. 0. 0. 0.]]\n",
            "An array initialized with all 6s.Array type is complex:\n",
            " [[6.+0.j 6.+0.j 6.+0.j]\n",
            " [6.+0.j 6.+0.j 6.+0.j]\n",
            " [6.+0.j 6.+0.j 6.+0.j]]\n",
            "A random array:\n",
            " [[0.86458916 0.4961661 ]\n",
            " [0.85075572 0.91405982]]\n"
          ]
        }
      ]
    },
    {
      "cell_type": "code",
      "source": [
        "# Create a sequence of integers\n",
        "# from 0 to 30 with steps of 5\n",
        "f = np.arange(0, 30, 5)\n",
        "print (\"A sequential array with steps of 5:\\n\", f)"
      ],
      "metadata": {
        "colab": {
          "base_uri": "https://localhost:8080/"
        },
        "id": "sOpOCY2rh2Lj",
        "outputId": "511a98dd-59ff-4985-cc79-58336101fd63"
      },
      "execution_count": 5,
      "outputs": [
        {
          "output_type": "stream",
          "name": "stdout",
          "text": [
            "A sequential array with steps of 5:\n",
            " [ 0  5 10 15 20 25]\n"
          ]
        }
      ]
    },
    {
      "cell_type": "code",
      "source": [
        "# Create a sequence of 10 values in range 0 to 5\n",
        "g = np.linspace(0, 5, 10)\n",
        "print (\"A sequential array with 10 values between0 and 5:\\n\", g)"
      ],
      "metadata": {
        "colab": {
          "base_uri": "https://localhost:8080/"
        },
        "id": "5J0rOS_6h7py",
        "outputId": "a7a84753-4d44-42ef-bc4f-c0534dad809b"
      },
      "execution_count": 8,
      "outputs": [
        {
          "output_type": "stream",
          "name": "stdout",
          "text": [
            "A sequential array with 10 values between0 and 5:\n",
            " [0.         0.55555556 1.11111111 1.66666667 2.22222222 2.77777778\n",
            " 3.33333333 3.88888889 4.44444444 5.        ]\n"
          ]
        }
      ]
    },
    {
      "cell_type": "code",
      "source": [
        "# Reshaping 3X4 array to 2X2X3 array\n",
        "arr = np.array([[1, 2, 3, 4],\n",
        "                [5, 2, 4, 2],\n",
        "                [1, 2, 0, 1]])\n",
        "\n",
        "newarr = arr.reshape(2, 2, 3)\n",
        "print (\"Original array:\\n\", arr)\n",
        "print(\"---------------\")\n",
        "print (\"Reshaped array:\\n\", newarr)"
      ],
      "metadata": {
        "colab": {
          "base_uri": "https://localhost:8080/"
        },
        "id": "XBf2YfH9iMbz",
        "outputId": "877ccb4c-c296-45ff-bd51-05e10fd68ef5"
      },
      "execution_count": 9,
      "outputs": [
        {
          "output_type": "stream",
          "name": "stdout",
          "text": [
            "Original array:\n",
            " [[1 2 3 4]\n",
            " [5 2 4 2]\n",
            " [1 2 0 1]]\n",
            "---------------\n",
            "Reshaped array:\n",
            " [[[1 2 3]\n",
            "  [4 5 2]]\n",
            "\n",
            " [[4 2 1]\n",
            "  [2 0 1]]]\n"
          ]
        }
      ]
    },
    {
      "cell_type": "code",
      "source": [
        "# Flatten array\n",
        "arr = np.array([[1, 2, 3], [4, 5, 6]])\n",
        "flat_arr = arr.flatten()\n",
        "print (\"Original array:\\n\", arr)\n",
        "print (\"Fattened array:\\n\", flat_arr)"
      ],
      "metadata": {
        "colab": {
          "base_uri": "https://localhost:8080/"
        },
        "id": "xRj7FnaeiPU_",
        "outputId": "d267d7c6-8858-4d2f-e255-5d840a04cd17"
      },
      "execution_count": 10,
      "outputs": [
        {
          "output_type": "stream",
          "name": "stdout",
          "text": [
            "Original array:\n",
            " [[1 2 3]\n",
            " [4 5 6]]\n",
            "Fattened array:\n",
            " [1 2 3 4 5 6]\n"
          ]
        }
      ]
    },
    {
      "cell_type": "code",
      "source": [
        "# basic operations on single array\n",
        "import numpy as np\n",
        "a = np.array([1, 2, 5, 3])\n",
        "# add 1 to every element\n",
        "print (\"Adding 1 to every element:\", a+1)\n",
        "# subtract 3 from each element\n",
        "print (\"Subtracting 3 from each element:\", a-3)\n",
        "# multiply each element by 10\n",
        "print (\"Multiplying each element by 10:\", a*10)\n",
        "# square each element\n",
        "print (\"Squaring each element:\", a**2)\n",
        "# modify existing array\n",
        "a *= 2\n",
        "print (\"Doubled each element of original array:\", a)\n",
        "# transpose of array\n",
        "a = np.array([[1, 2, 3], [3, 4, 5], [9, 6, 0]])\n",
        "print (\"\\nOriginal array:\\n\", a)\n",
        "print (\"Transpose of array:\\n\", a.T)"
      ],
      "metadata": {
        "colab": {
          "base_uri": "https://localhost:8080/"
        },
        "id": "OI6o1i3tiTXs",
        "outputId": "e8dfe117-9955-49b4-ab16-6c066e9c8b4c"
      },
      "execution_count": 11,
      "outputs": [
        {
          "output_type": "stream",
          "name": "stdout",
          "text": [
            "Adding 1 to every element: [2 3 6 4]\n",
            "Subtracting 3 from each element: [-2 -1  2  0]\n",
            "Multiplying each element by 10: [10 20 50 30]\n",
            "Squaring each element: [ 1  4 25  9]\n",
            "Doubled each element of original array: [ 2  4 10  6]\n",
            "\n",
            "Original array:\n",
            " [[1 2 3]\n",
            " [3 4 5]\n",
            " [9 6 0]]\n",
            "Transpose of array:\n",
            " [[1 3 9]\n",
            " [2 4 6]\n",
            " [3 5 0]]\n"
          ]
        }
      ]
    },
    {
      "cell_type": "code",
      "source": [
        "# unary operators in numpy\n",
        "import numpy as np\n",
        "arr = np.array([[1, 5, 6],\n",
        "                [4, 7, 2],\n",
        "                [3, 1, 9]])\n",
        "\n",
        "# maximum element of array\n",
        "print (\"Largest element is:\", arr.max())\n",
        "print (\"Row-wise maximum elements:\",arr.max(axis = 1))\n",
        "# minimum element of array\n",
        "print (\"Column-wise minimum elements:\",arr.min(axis = 0))\n",
        "# sum of array elements\n",
        "print (\"Sum of all array elements:\",arr.sum())\n",
        "# cumulative sum along each row\n",
        "print (\"Cumulative sum along each row:\\n\",arr.cumsum(axis = 1))"
      ],
      "metadata": {
        "colab": {
          "base_uri": "https://localhost:8080/"
        },
        "id": "466ECHlbidNG",
        "outputId": "bd473a4c-1092-458f-b5fe-d91e3cdc1298"
      },
      "execution_count": 18,
      "outputs": [
        {
          "output_type": "stream",
          "name": "stdout",
          "text": [
            "Largest element is: 9\n",
            "Row-wise maximum elements: [6 7 9]\n",
            "Column-wise minimum elements: [1 1 2]\n",
            "Sum of all array elements: 38\n",
            "Cumulative sum along each row:\n",
            " [[ 1  6 12]\n",
            " [ 4 11 13]\n",
            " [ 3  4 13]]\n"
          ]
        }
      ]
    },
    {
      "cell_type": "code",
      "source": [
        "# binary operators in Numpy\n",
        "import numpy as np\n",
        "\n",
        "a = np.array([[1, 2],\n",
        "            [3, 4]])\n",
        "b = np.array([[4, 3],\n",
        "            [2, 1]])\n",
        "\n",
        "# add arrays\n",
        "print (\"Array sum:\\n\", a + b)\n",
        "\n",
        "# multiply arrays (elementwise multiplication)\n",
        "print (\"Array multiplication:\\n\", a*b)\n",
        "\n",
        "# matrix multiplication\n",
        "print (\"Matrix multiplication:\\n\", a.dot(b))\n"
      ],
      "metadata": {
        "colab": {
          "base_uri": "https://localhost:8080/"
        },
        "id": "NuRxLYsyioW5",
        "outputId": "b480518a-9832-4719-b87e-a6d823a9d43b"
      },
      "execution_count": 13,
      "outputs": [
        {
          "output_type": "stream",
          "name": "stdout",
          "text": [
            "Array sum:\n",
            " [[5 5]\n",
            " [5 5]]\n",
            "Array multiplication:\n",
            " [[4 6]\n",
            " [6 4]]\n",
            "Matrix multiplication:\n",
            " [[ 8  5]\n",
            " [20 13]]\n"
          ]
        }
      ]
    },
    {
      "cell_type": "code",
      "source": [
        "# Python program to demonstrate sorting in numpy\n",
        "import numpy as np\n",
        "a = np.array([[1, 4, 2],\n",
        "              [3, 4, 6],\n",
        "              [0, -1, 5]])\n",
        "# sorted array\n",
        "print (\"Array elements in sorted order:\\n\",np.sort(a, axis = None))\n",
        "# sort array row-wise\n",
        "print (\"Row-wise sorted array:\\n\",np.sort(a, axis = 1))\n",
        "# specify sort algorithm\n",
        "print (\"Column wise sort by applying merge-sort:\\n\",np.sort(a, axis = 0, kind = 'mergesort'))\n",
        "# Example to show sorting of structured array\n",
        "# set names for dtypes\n",
        "dtypes = [('name', 'S10'), ('grad_year', int), ('cgpa', float)]\n",
        "# Values to be put in array\n",
        "values = [('Hrithik', 2009, 8.5), ('Ajay', 2008, 8.7),\n",
        "           ('Pankaj', 2008, 7.9), ('Aakash', 2009, 9.0)]\n",
        "# Creating array\n",
        "arr = np.array(values, dtype = dtypes)\n",
        "print (\"\\nArray sorted by names:\\n\",np.sort(arr, order = 'name'))\n",
        "print (\"Array sorted by graduation year and then cgpa:\\n\",np.sort(arr, order = ['grad_year', 'cgpa']))"
      ],
      "metadata": {
        "colab": {
          "base_uri": "https://localhost:8080/"
        },
        "id": "QYYZWtgDjBQe",
        "outputId": "3799a064-ad07-4b2c-b275-28c4a3491f7b"
      },
      "execution_count": 15,
      "outputs": [
        {
          "output_type": "stream",
          "name": "stdout",
          "text": [
            "Array elements in sorted order:\n",
            " [-1  0  1  2  3  4  4  5  6]\n",
            "Row-wise sorted array:\n",
            " [[ 1  2  4]\n",
            " [ 3  4  6]\n",
            " [-1  0  5]]\n",
            "Column wise sort by applying merge-sort:\n",
            " [[ 0 -1  2]\n",
            " [ 1  4  5]\n",
            " [ 3  4  6]]\n",
            "\n",
            "Array sorted by names:\n",
            " [(b'Aakash', 2009, 9. ) (b'Ajay', 2008, 8.7) (b'Hrithik', 2009, 8.5)\n",
            " (b'Pankaj', 2008, 7.9)]\n",
            "Array sorted by graduation year and then cgpa:\n",
            " [(b'Pankaj', 2008, 7.9) (b'Ajay', 2008, 8.7) (b'Hrithik', 2009, 8.5)\n",
            " (b'Aakash', 2009, 9. )]\n"
          ]
        }
      ]
    },
    {
      "cell_type": "code",
      "source": [
        "#zeors\n",
        "import numpy as np\n",
        "np.zeros([3, 3],\n",
        "         dtype = np.int32,\n",
        "         order = 'f')"
      ],
      "metadata": {
        "colab": {
          "base_uri": "https://localhost:8080/"
        },
        "id": "PyY-6fsxj5TU",
        "outputId": "2d32c518-9711-4437-99f7-dea530ed03b6"
      },
      "execution_count": 17,
      "outputs": [
        {
          "output_type": "execute_result",
          "data": {
            "text/plain": [
              "array([[0, 0, 0],\n",
              "       [0, 0, 0],\n",
              "       [0, 0, 0]], dtype=int32)"
            ]
          },
          "metadata": {},
          "execution_count": 17
        }
      ]
    },
    {
      "cell_type": "code",
      "source": [
        "#usage of arrange\n",
        "import numpy as np\n",
        "np.arange(1, 20 , 2,dtype = np.float32)"
      ],
      "metadata": {
        "colab": {
          "base_uri": "https://localhost:8080/"
        },
        "id": "lufHp4oEo8SX",
        "outputId": "6b07160f-4ffe-4e05-fa89-610c3d173a5a"
      },
      "execution_count": 22,
      "outputs": [
        {
          "output_type": "execute_result",
          "data": {
            "text/plain": [
              "array([ 1.,  3.,  5.,  7.,  9., 11., 13., 15., 17., 19.], dtype=float32)"
            ]
          },
          "metadata": {},
          "execution_count": 22
        }
      ]
    }
  ]
}